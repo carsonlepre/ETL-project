{
 "cells": [
  {
   "cell_type": "code",
   "execution_count": 17,
   "metadata": {},
   "outputs": [],
   "source": [
    "#Import needed libraries\n",
    "import os\n",
    "import pandas as pd\n",
    "import csv\n",
    "import numpy as np\n",
    "import matplotlib.pyplot as plt\n",
    "import sqlalchemy\n",
    "from sqlalchemy import create_engine\n",
    "from sqlalchemy.ext.automap import automap_base"
   ]
  },
  {
   "cell_type": "code",
   "execution_count": 18,
   "metadata": {},
   "outputs": [],
   "source": [
    "from sqlalchemy.ext.declarative import declarative_base\n",
    "Base = declarative_base()"
   ]
  },
  {
   "cell_type": "code",
   "execution_count": 22,
   "metadata": {},
   "outputs": [],
   "source": [
    "Base = automap_base()"
   ]
  },
  {
   "cell_type": "code",
   "execution_count": 1,
   "metadata": {},
   "outputs": [
    {
     "ename": "NameError",
     "evalue": "name 'create_engine' is not defined",
     "output_type": "error",
     "traceback": [
      "\u001b[0;31m---------------------------------------------------------------------------\u001b[0m",
      "\u001b[0;31mNameError\u001b[0m                                 Traceback (most recent call last)",
      "\u001b[0;32m<ipython-input-1-eedb3ff95bab>\u001b[0m in \u001b[0;36m<module>\u001b[0;34m\u001b[0m\n\u001b[0;32m----> 1\u001b[0;31m \u001b[0mengine\u001b[0m \u001b[0;34m=\u001b[0m \u001b[0mcreate_engine\u001b[0m\u001b[0;34m(\u001b[0m\u001b[0;34m'postgresql://:x492ghostER94941@localhost:5432/genze/postgres'\u001b[0m\u001b[0;34m)\u001b[0m\u001b[0;34m\u001b[0m\u001b[0;34m\u001b[0m\u001b[0m\n\u001b[0m",
      "\u001b[0;31mNameError\u001b[0m: name 'create_engine' is not defined"
     ]
    }
   ],
   "source": [
    "engine = create_engine('postgresql://:x492ghostER94941@localhost:5432/genze/postgres')"
   ]
  },
  {
   "cell_type": "code",
   "execution_count": 21,
   "metadata": {},
   "outputs": [
    {
     "ename": "AttributeError",
     "evalue": "type object 'Base' has no attribute 'prepare'",
     "output_type": "error",
     "traceback": [
      "\u001b[0;31m---------------------------------------------------------------------------\u001b[0m",
      "\u001b[0;31mAttributeError\u001b[0m                            Traceback (most recent call last)",
      "\u001b[0;32m<ipython-input-21-ea32bbf05ec8>\u001b[0m in \u001b[0;36m<module>\u001b[0;34m\u001b[0m\n\u001b[0;32m----> 1\u001b[0;31m \u001b[0mBase\u001b[0m\u001b[0;34m.\u001b[0m\u001b[0mprepare\u001b[0m\u001b[0;34m(\u001b[0m\u001b[0mengine\u001b[0m\u001b[0;34m,\u001b[0m \u001b[0mreflect\u001b[0m\u001b[0;34m=\u001b[0m\u001b[0;32mTrue\u001b[0m\u001b[0;34m)\u001b[0m\u001b[0;34m\u001b[0m\u001b[0;34m\u001b[0m\u001b[0m\n\u001b[0m",
      "\u001b[0;31mAttributeError\u001b[0m: type object 'Base' has no attribute 'prepare'"
     ]
    }
   ],
   "source": [
    "Base.prepare(engine, reflect=True)"
   ]
  },
  {
   "cell_type": "code",
   "execution_count": null,
   "metadata": {},
   "outputs": [],
   "source": [
    "xls = pd.ExcelFile('electric_vehicle_data.xlsx') #specify the workbook I want parsed.\n",
    "xls.sheet_names #print sheetnames so I know it's working."
   ]
  },
  {
   "cell_type": "code",
   "execution_count": null,
   "metadata": {},
   "outputs": [],
   "source": [
    "# frame_1 = pd.read_excel('electric_vehicle_data.xlsx', sheet_name=\"6-9 to 6-13\")\n",
    "frame_1 = pd.DataFrame()\n",
    "print(type(frame_1))\n",
    "for s in xls.sheet_names:\n",
    "    print(s)\n",
    "    frame_1 = frame_1.append(pd.read_excel('electric_vehicle_data.xlsx', sheet_name=s), sort=False)\n",
    "    frame_1.head(2)\n",
    "    "
   ]
  },
  {
   "cell_type": "code",
   "execution_count": null,
   "metadata": {},
   "outputs": [],
   "source": [
    "frame_1.to_csv(\"vehicles.csv\")\n",
    "\n",
    "from sqlalchemy_utils import create_database, database_exists, drop_database\n",
    "\n",
    "rds_connection_string = \"postgresql://<user_id>:<password>@localhost:5432/ev_test_db\"\n",
    "engine = create_engine(rds_connection_string)\n",
    "\n",
    "if database_exists(engine.url):\n",
    "    # Delete PostgreSQL database \n",
    "    drop_database(engine.url)\n",
    "    # Create empty PostgreSQL database\n",
    "    create_database(engine.url)\n",
    "else:\n",
    "    create_database(engine.url)\n",
    "    \n",
    "    \n",
    "frame_1.to_sql('scooter_schema', engine)\n",
    "\n",
    "select * from scooter_schema\n",
    "where last_inspected < 31 AND front_psi > 12 OR rear_psi > 12;\n",
    "\n",
    "inspected_df = frame_1.sort_values(by=[\"Last Inspected\"])\n",
    "sort_by_inspect_1 = inspected_df.drop([\"Date\", \"Origin\", \"Ticket\", \"Vehicle ID\", \"Ticket Sub-1\", \"Ticket Sub-2\", \"Addt'l Note\"], axis=1)\n",
    "sort_by_inspect_1.head(15)"
   ]
  },
  {
   "cell_type": "code",
   "execution_count": null,
   "metadata": {},
   "outputs": [],
   "source": [
    "x_axis_data_1 = sort_by_inspect_1[\"Last Inspected\"]\n",
    "y_axis_data_1_front = sort_by_inspect_1[\"Front PSI\"]\n",
    "y_axis_data_1_rear = sort_by_inspect_1[\"Rear PSI\"]"
   ]
  },
  {
   "cell_type": "code",
   "execution_count": null,
   "metadata": {},
   "outputs": [],
   "source": [
    "x_axis = np.arange(0, 41, 1)\n",
    "y_axis = np.arange(5,35,1)"
   ]
  },
  {
   "cell_type": "code",
   "execution_count": null,
   "metadata": {},
   "outputs": [],
   "source": [
    "plot_to_print = sort_by_inspect_1.plot(x=\"Last Inspected\")"
   ]
  },
  {
   "cell_type": "code",
   "execution_count": null,
   "metadata": {},
   "outputs": [],
   "source": []
  },
  {
   "cell_type": "code",
   "execution_count": null,
   "metadata": {},
   "outputs": [],
   "source": [
    "from matplotlib import pyplot as plt\n",
    "import pandas as pd\n",
    "import numpy as np\n",
    "df=pd.DataFrame({'x': range(1,101), 'y': np.random.randn(100)*15+range(1,101), 'z': (np.random.randn(100)*15+range(1,101))*2 })\n",
    " \n",
    "# plot\n",
    "plt.plot( 'x', 'y', data=df, marker='o', color='mediumvioletred')\n"
   ]
  },
  {
   "cell_type": "code",
   "execution_count": null,
   "metadata": {},
   "outputs": [],
   "source": []
  },
  {
   "cell_type": "code",
   "execution_count": null,
   "metadata": {},
   "outputs": [],
   "source": [
    "sheet_to_df_map"
   ]
  },
  {
   "cell_type": "code",
   "execution_count": null,
   "metadata": {},
   "outputs": [],
   "source": []
  },
  {
   "cell_type": "code",
   "execution_count": null,
   "metadata": {},
   "outputs": [],
   "source": [
    "df = pd.read_excel(xls, '6-9 to 6-13')\n",
    "front_psi_1 = df.iloc[:,7]\n",
    "front_psi_1.head(2)\n",
    "#creating lists of the values for the individual front tire pressure readings"
   ]
  },
  {
   "cell_type": "code",
   "execution_count": null,
   "metadata": {},
   "outputs": [],
   "source": [
    "front_psi_list_1 = []\n",
    "for x in front_psi_1:\n",
    "    front_psi_list_1.append(x)\n",
    "front_psi_list_1    "
   ]
  },
  {
   "cell_type": "code",
   "execution_count": null,
   "metadata": {},
   "outputs": [],
   "source": [
    "df = pd.read_excel(xls, '6-9 to 6-13')\n",
    "rear_psi_1 = df.iloc[:,8]\n",
    "rear_psi_1.head(2)"
   ]
  },
  {
   "cell_type": "code",
   "execution_count": null,
   "metadata": {},
   "outputs": [],
   "source": [
    "rear_psi_list_1 = []\n",
    "for x in rear_psi_1:\n",
    "    rear_psi_list_1.append(x)\n",
    "rear_psi_list_1    "
   ]
  },
  {
   "cell_type": "code",
   "execution_count": null,
   "metadata": {},
   "outputs": [],
   "source": [
    "df = pd.read_excel(xls, '6-9 to 6-13')\n",
    "days_since_1 = df.iloc[:,3]\n",
    "days_since_1.head(2)\n",
    "#creating lists of the values for the 'Days Since Last Inspected' column"
   ]
  },
  {
   "cell_type": "code",
   "execution_count": null,
   "metadata": {},
   "outputs": [],
   "source": [
    "days_since_series_1 = pd.Series(days_since_1)\n",
    "front_psi_series_1 = pd.Series(front_psi_list_1)\n",
    "rear_psi_series_1 = pd.Series(rear_psi_list_1)"
   ]
  },
  {
   "cell_type": "code",
   "execution_count": null,
   "metadata": {},
   "outputs": [],
   "source": [
    "days_since_series_1.describe()"
   ]
  },
  {
   "cell_type": "code",
   "execution_count": null,
   "metadata": {},
   "outputs": [],
   "source": []
  },
  {
   "cell_type": "code",
   "execution_count": null,
   "metadata": {},
   "outputs": [],
   "source": [
    "sheet_to_df_map = {}\n",
    "result = pd.DataFrame()\n",
    "for sheet_name in xls.sheet_names:\n",
    "    result = result.append(xls.parse(sheet_name))\n",
    "    \n",
    "print(result.head())\n",
    "#for loop to allow for dynamic parsing of the workbook. Adding sheets won't break the code.    \n",
    "\n",
    "result = result.sort_values(by='Last Inspected', ascending=False)"
   ]
  },
  {
   "cell_type": "code",
   "execution_count": null,
   "metadata": {},
   "outputs": [],
   "source": [
    "lim = result.plot(kind='line',y='Front PSI',x='Last Inspected',color='red')\n",
    "lim.set_xlim(50, 0)\n",
    "lim.set_ylim(12,35)\n",
    "plt.show()"
   ]
  },
  {
   "cell_type": "code",
   "execution_count": null,
   "metadata": {},
   "outputs": [],
   "source": [
    "sheet_to_df_map"
   ]
  },
  {
   "cell_type": "code",
   "execution_count": null,
   "metadata": {},
   "outputs": [],
   "source": []
  }
 ],
 "metadata": {
  "kernelspec": {
   "display_name": "Python 3",
   "language": "python",
   "name": "python3"
  },
  "language_info": {
   "codemirror_mode": {
    "name": "ipython",
    "version": 3
   },
   "file_extension": ".py",
   "mimetype": "text/x-python",
   "name": "python",
   "nbconvert_exporter": "python",
   "pygments_lexer": "ipython3",
   "version": "3.7.3"
  }
 },
 "nbformat": 4,
 "nbformat_minor": 2
}
